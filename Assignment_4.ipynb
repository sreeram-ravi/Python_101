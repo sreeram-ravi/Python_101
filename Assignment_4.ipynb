{
  "nbformat": 4,
  "nbformat_minor": 0,
  "metadata": {
    "colab": {
      "provenance": [],
      "collapsed_sections": [],
      "authorship_tag": "ABX9TyOGZj4w81tvmv5HpOuP+S7Z",
      "include_colab_link": true
    },
    "kernelspec": {
      "name": "python3",
      "display_name": "Python 3"
    },
    "language_info": {
      "name": "python"
    }
  },
  "cells": [
    {
      "cell_type": "markdown",
      "metadata": {
        "id": "view-in-github",
        "colab_type": "text"
      },
      "source": [
        "<a href=\"https://colab.research.google.com/github/sreeram-ravi/Python_101/blob/main/Assignment_4.ipynb\" target=\"_parent\"><img src=\"https://colab.research.google.com/assets/colab-badge.svg\" alt=\"Open In Colab\"/></a>"
      ]
    },
    {
      "cell_type": "markdown",
      "source": [
        "# 4.3 ( Budget Analysis )\n",
        "Write a program that asks the user to enter the amount that he or she has budgeted for a month.\n",
        "A loop should then prompt the user to enter each of his or her expenses for the month and keep\n",
        "a running total. When the loop finishes, the program should display the amount that the user is\n",
        "over or under budget."
      ],
      "metadata": {
        "id": "5ksXsUSDLNKO"
      }
    },
    {
      "cell_type": "code",
      "source": [
        "####################################\n",
        "# Assignment 4.3 (Budget Analysis)\n",
        "# Date:- Oct 2 2022\n",
        "####################################\n",
        "\n",
        "# Ask user for budget allocated for a month\n",
        "\n",
        "budget = input(\"Enter the Budget allocated for a month : \")\n",
        "budget = int (budget)\n",
        "\n",
        "# Enter your expeses per item\n",
        "\n",
        "num_item = input(\"Enter the number of items purchased : \")\n",
        "num_item = int(num_item)\n",
        "total_price = 0\n",
        "item=1\n",
        "\n",
        "while ( num_item >= item ):\n",
        "    price = input(\"Enter the amount for the iten purchased : \")\n",
        "    price = float(price)\n",
        "    print ( \"Item\",item,\"   \",price)\n",
        "    item = item + 1\n",
        "    total_price = total_price + price\n",
        "    \n",
        "\n",
        "if ( total_price < budget ):\n",
        "    total_price = total_price - budget\n",
        "    print(\"You are under your budget by \", total_price )\n",
        "elif ( total_price == budget ):\n",
        "    total_price = total_price - budget\n",
        "    print (\"You have evened out on budget \", total_price)\n",
        "else:\n",
        "    total_price = total_price - budget\n",
        "    print(\"You are over the budget by \", total_price)\n"
      ],
      "metadata": {
        "id": "8caGpu7TYeQv"
      },
      "execution_count": null,
      "outputs": []
    },
    {
      "cell_type": "markdown",
      "source": [
        "# 4.4 ( Distance Traveled )\n",
        "\n",
        "\n",
        "```\n",
        "The distance a vehicle travels can be calculated as follows:\n",
        "distan⁡ce = speed × time\n",
        "For example, if a train travels 40 miles per hour for three hours, the distance traveled is 120\n",
        "miles. Write a program that asks the user for the speed of a vehicle (in miles per hour) and the\n",
        "number of hours it has traveled. It should then use a loop to display the distance the vehicle has\n",
        "traveled for each hour of that time period. Here is an example of the desired output:\n",
        "What is the speed of the vehicle in mph? 40\n",
        "How many hours has it traveled? 3\n",
        "Hour Distance Traveled\n",
        "1 40\n",
        "2 80\n",
        "3 120 \n",
        "``` \n",
        "\n"
      ],
      "metadata": {
        "id": "xZO-xiqTY8l0"
      }
    },
    {
      "cell_type": "code",
      "source": [
        "####################################\n",
        "# Assignment 4.4 (Distance Traveled)\n",
        "# Date:- Oct 2 2022\n",
        "####################################\n",
        "\n",
        "#Variables\n",
        "\n",
        "speed = input (\"What is the speed of the vehicle in MPH? \")\n",
        "speed = int(speed)\n",
        "hours = input (\"Hpw mant hours has it traveled? \")\n",
        "hours = int(hours)\n",
        "count = 1\n",
        "\n",
        "# Display the miles travelled per hour \n",
        "\n",
        "print (\"Hour Distanace Traveled\")\n",
        "\n",
        "while (  hours >= count ):\n",
        "  print ( count , \"    \" , speed * count )\n",
        "  count = count + 1\n",
        "  \n",
        "\n"
      ],
      "metadata": {
        "id": "lltxkgo9aO2l"
      },
      "execution_count": null,
      "outputs": []
    },
    {
      "cell_type": "markdown",
      "source": [
        "\n",
        "# 4.6 ( Celsius to Fahrenheit Table )\n",
        "\n",
        "\n",
        "```\n",
        "Write a program that displays a table of the Celsius temperatures 0 through 20 and their\n",
        "Fahrenheit equivalents. The formula for converting a temperature from Celsius to Fahrenheit is\n",
        "F=95C+32\n",
        "where F is the Fahrenheit temperature, and C is the Celsius temperature. Your program must\n",
        "use a loop to display the table.\n",
        "```"
      ],
      "metadata": {
        "id": "tCo22aYYdT6u"
      }
    },
    {
      "cell_type": "code",
      "source": [
        "###############################################\n",
        "# Assignment 4.6 (Celsius to Fahrenheit Table)\n",
        "# Date:- Oct 2 2022\n",
        "###############################################\n",
        "\n",
        "#Variable\n",
        "\n",
        "max_temp=20\n",
        "initial_celsius=0\n",
        "\n",
        "print (\"The Fahrenheit Temperture from 0 to 20 is as shown below :\")\n",
        "while ( max_temp >= initial_celsius ):\n",
        "  fahrenheit = 95 * initial_celsius + 32 \n",
        "  print (\"Celsius : \", initial_celsius , \"Fahrenheit Equivalent : \", fahrenheit)\n",
        "  initial_celsius = initial_celsius + 1 \n"
      ],
      "metadata": {
        "id": "0C3_3N9Udmr0"
      },
      "execution_count": null,
      "outputs": []
    }
  ]
}