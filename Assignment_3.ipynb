{
  "nbformat": 4,
  "nbformat_minor": 0,
  "metadata": {
    "colab": {
      "provenance": [],
      "collapsed_sections": [],
      "authorship_tag": "ABX9TyOOr54r1su0mzq31YHeKPE1",
      "include_colab_link": true
    },
    "kernelspec": {
      "name": "python3",
      "display_name": "Python 3"
    },
    "language_info": {
      "name": "python"
    }
  },
  "cells": [
    {
      "cell_type": "markdown",
      "metadata": {
        "id": "view-in-github",
        "colab_type": "text"
      },
      "source": [
        "<a href=\"https://colab.research.google.com/github/sreeram-ravi/Python_101/blob/main/Assignment_3.ipynb\" target=\"_parent\"><img src=\"https://colab.research.google.com/assets/colab-badge.svg\" alt=\"Open In Colab\"/></a>"
      ]
    },
    {
      "cell_type": "markdown",
      "source": [
        "#3.10 ( Money Counting Game )\n",
        "\n",
        "Create a change-counting game that gets the user to enter the number of coins required to make\n",
        "exactly one dollar. The program should prompt the user to enter the number of pennies, nickels,\n",
        "dimes, and quarters. If the total value of the coins entered is equal to one dollar, the program\n",
        "should congratulate the user for winning the game. Otherwise, the program should display a\n",
        "message indicating whether the amount entered was more than or less than one dollar."
      ],
      "metadata": {
        "id": "JH8lNbaf0vCf"
      }
    },
    {
      "cell_type": "code",
      "execution_count": null,
      "metadata": {
        "id": "R5zIAV3Z0pIF"
      },
      "outputs": [],
      "source": [
        "########################################\n",
        "#Assignment 3.10 ( Money Counting Game )\n",
        "#Date Sep 27 2022\n",
        "########################################\n",
        "\n",
        "#User to provide the number of pennies,Nickles,Dimes,Quarters\n",
        "\n",
        "print (\"This game is about entering correct number of all denimationscoins to make exactly 1 dollar\")\n",
        "\n",
        "user_name=(input(\"Enter your name : \"))\n",
        "\n",
        "num_pennies=int(input(\"Enter number of Pennies : \"))\n",
        "\n",
        "num_nickles=int(input(\"Enter number of Nickles : \"))\n",
        "\n",
        "num_dimes=int(input(\"Enter number of Dimes : \"))\n",
        "\n",
        "num_quaters=int(input(\"Enter number of Quaters : \"))\n",
        "\n",
        "total_value=( num_pennies + 5 * num_nickles + 10 * num_dimes + 25 * num_quaters ) / 100\n",
        "\n",
        "if ( total_value == 1 ):\n",
        "    print (\"Congratulate\", user_name, \"for winning the game.\")\n",
        "elif ( total_value > 1 ):\n",
        "    print (\"The amount entered is more than 1 Dollar\")\n",
        "else:\n",
        "    print (\"The amount entered is less than 1 Dollar\")"
      ]
    },
    {
      "cell_type": "markdown",
      "source": [
        "# 3.11 ( Book Club Points )\n",
        "\n",
        "Book Club Points\n",
        "Serendipity Booksellers has a book club that awards points to its customers based on the\n",
        "number of books purchased each month. The points are awarded as follows:\n",
        "If a customer purchases 0 books, he or she earns 0 points.\n",
        "If a customer purchases 2 books, he or she earns 5 points.\n",
        "If a customer purchases 4 books, he or she earns 15 points.\n",
        "If a customer purchases 6 books, he or she earns 30 points.\n",
        "If a customer purchases 8 or more books, he or she earns 60 points.\n",
        "Write a program that asks the user to enter the number of books that he or she has purchased\n",
        "this month, then displays the number of points awarded."
      ],
      "metadata": {
        "id": "WBOj4Yut10ju"
      }
    },
    {
      "cell_type": "code",
      "source": [
        "########################################\n",
        "#Assignment 3.11 ( Book Club Points )\n",
        "#Date Sep 27 2022\n",
        "########################################\n",
        "\n",
        "#User gets points based on number of books purchased in a month\n",
        "\n",
        "print (\"Welcome to Serendipity Booksellers\")\n",
        "\n",
        "cust_name=(input(\"Enter your name : \"))\n",
        "\n",
        "num_books=int(input(\"Enter number of Books purchased in a month : \"))\n",
        "\n",
        "\n",
        "if ( num_books == 0 ):\n",
        "    print ( cust_name, \"You have earned 0 points\")\n",
        "elif ( num_books == 2 ):\n",
        "    print (cust_name, \"You have earned 5 points\")\n",
        "elif ( num_books == 4 ):\n",
        "    print (cust_name, \"You have earned 15 points\")\n",
        "elif (num_books == 6 ):\n",
        "    print (cust_name, \"You have earned 30 points\")\n",
        "elif (num_books >= 8):\n",
        "    print (cust_name, \"You have earned 60 points\")\n",
        "else:\n",
        "    print (cust_name , \", the number of books you entered does not qualify for points\")"
      ],
      "metadata": {
        "colab": {
          "base_uri": "https://localhost:8080/"
        },
        "id": "0RCNpHF02AHJ",
        "outputId": "ac03227f-c557-422d-dca1-8d504820817e"
      },
      "execution_count": null,
      "outputs": [
        {
          "output_type": "stream",
          "name": "stdout",
          "text": [
            "Welcome to Serendipity Booksellers\n",
            "Enter your name : Ravi\n",
            "Enter number of Books purchased in a month : 8\n",
            "Ravi You have earned 60 points\n"
          ]
        }
      ]
    }
  ]
}