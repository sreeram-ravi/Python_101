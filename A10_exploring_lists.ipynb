{
  "nbformat": 4,
  "nbformat_minor": 0,
  "metadata": {
    "colab": {
      "provenance": [],
      "toc_visible": true,
      "include_colab_link": true
    },
    "kernelspec": {
      "name": "python3",
      "display_name": "Python 3"
    },
    "language_info": {
      "name": "python"
    }
  },
  "cells": [
    {
      "cell_type": "markdown",
      "metadata": {
        "id": "view-in-github",
        "colab_type": "text"
      },
      "source": [
        "<a href=\"https://colab.research.google.com/github/sreeram-ravi/Python_101/blob/main/A10_exploring_lists.ipynb\" target=\"_parent\"><img src=\"https://colab.research.google.com/assets/colab-badge.svg\" alt=\"Open In Colab\"/></a>"
      ]
    },
    {
      "cell_type": "markdown",
      "source": [
        "# Lists\n"
      ],
      "metadata": {
        "id": "HpIJY9lvgjMV"
      }
    },
    {
      "cell_type": "markdown",
      "source": [
        "* https://www.w3schools.com/python/python_ref_list.asp  (Python List Methods)\n",
        "* https://www.w3schools.com/python/python_ref_functions.asp (Python Built-in Functions)"
      ],
      "metadata": {
        "id": "imH1nSNBUuG_"
      }
    },
    {
      "cell_type": "code",
      "source": [
        "#@title Lists: An Introduction\n",
        "\n",
        "#Data Type\n",
        "#List Type\n",
        "\n",
        "bucket = [ 1 , 2 , 3 , \"bob\" , \"cat\", \"bird\", False]\n",
        "print (\"The elements in the list are : \" , bucket)\n",
        "print (\"Data Type : \" , type(bucket))"
      ],
      "metadata": {
        "id": "iE_KtgxUn4at",
        "colab": {
          "base_uri": "https://localhost:8080/"
        },
        "outputId": "6970258d-244a-43f7-dbb7-ddbfae6131e6"
      },
      "execution_count": 3,
      "outputs": [
        {
          "output_type": "stream",
          "name": "stdout",
          "text": [
            "The elements in the list are :  [1, 2, 3, 'bob', 'cat', 'bird', False]\n",
            "Data Type :  <class 'list'>\n"
          ]
        }
      ]
    },
    {
      "cell_type": "code",
      "source": [
        "#@title 1.Creating an empty list\n",
        "\n",
        "z = []\n",
        "print (\"Empty list\", z)\n",
        "print (\"Length of the list is : \" , len(z))\n"
      ],
      "metadata": {
        "id": "4GnRakGpUz8V",
        "colab": {
          "base_uri": "https://localhost:8080/"
        },
        "outputId": "1b3da1bc-85a1-42f5-e5d9-451278463d5a"
      },
      "execution_count": 5,
      "outputs": [
        {
          "output_type": "stream",
          "name": "stdout",
          "text": [
            "Empty list []\n",
            "Length of the list is :  0\n"
          ]
        }
      ]
    },
    {
      "cell_type": "code",
      "source": [
        "#@title 2.Creating a list with some elements\n",
        "\n",
        "xyz = [ \"john\" , \"Mike\", 1 , 0 , 5 , True ,\"Dog\"]\n",
        "\n",
        "print (\"Print the Elements in List 'xyz' : \" , xyz)"
      ],
      "metadata": {
        "id": "uCm9yPLDU0O0",
        "colab": {
          "base_uri": "https://localhost:8080/"
        },
        "outputId": "216e620b-5ce0-4dbb-f0c1-f51fec324eb4"
      },
      "execution_count": 6,
      "outputs": [
        {
          "output_type": "stream",
          "name": "stdout",
          "text": [
            "Print the Elements in List 'xyz' :  ['john', 'Mike', 1, 0, 5, True, 'Dog']\n"
          ]
        }
      ]
    },
    {
      "cell_type": "code",
      "source": [
        "#@title 3.Adding elements at the end\n",
        "\n",
        "zyx = [1 ,3 , 5 , \"Debra\" , \"Bob\" , \"nothing\"]\n",
        "\n",
        "zyx.append(13)\n",
        "\n",
        "zyx.append(True)\n",
        "\n",
        "print (zyx)"
      ],
      "metadata": {
        "id": "rEpmqm7MU0Si",
        "colab": {
          "base_uri": "https://localhost:8080/"
        },
        "outputId": "1b59fd0d-6bb3-43a3-d22c-71970bd7fef0"
      },
      "execution_count": 11,
      "outputs": [
        {
          "output_type": "stream",
          "name": "stdout",
          "text": [
            "[1, 3, 5, 'Debra', 'Bob', 'nothing', 13, True]\n"
          ]
        }
      ]
    },
    {
      "cell_type": "code",
      "source": [
        "#@title 4.Accessing an element (positive index)\n",
        "# also known as \"Reading an element\"\n",
        "# also known as \"Setting an element\"\n",
        "\n",
        "ele = ['john', 'Mike', 1, 0, 5, True, \"and\" , False , 'Dog' , \"Debra\" , \"Bob\"]\n",
        "\n",
        "first = ele[0]\n",
        "second = ele[1] \n",
        "sixth = ele[5]\n",
        "seventh = ele[6]\n",
        "eighth = ele [7]\n",
        "\n",
        "print(first , sixth , seventh  ,second , eighth )\n"
      ],
      "metadata": {
        "id": "AMTpZsLMU0Vr",
        "colab": {
          "base_uri": "https://localhost:8080/"
        },
        "outputId": "625540a3-efed-4090-fc27-c43f42d324b5"
      },
      "execution_count": 16,
      "outputs": [
        {
          "output_type": "stream",
          "name": "stdout",
          "text": [
            "john True and Mike False\n"
          ]
        }
      ]
    },
    {
      "cell_type": "code",
      "source": [
        "#@title 5.Accessing an element (through Negative Indexing)\n",
        "# also known as \"Reading an element\"\n",
        "# also known as \"Setting an element\"\n",
        "\n",
        "row = ['Mike', -1, 0, 12001, True, \"and\" , False , 'Dog' , \"Debra\" , \"Bob\"]\n",
        "\n",
        "last_element=row[-1]\n",
        "\n",
        "second_last=row[-2]\n",
        "\n",
        "fifth_from_last = row[-5]\n",
        "\n",
        "print (\" Last Element : \", last_element , \"\\n\" ,\"Second Last Element : \" , second_last , \"\\n\" , \"Thrird Last Element : \" ,fifth_from_last)\n",
        "\n"
      ],
      "metadata": {
        "id": "VWaPKymnXdtx",
        "colab": {
          "base_uri": "https://localhost:8080/"
        },
        "outputId": "d0582293-72f4-481d-b979-e63289ea51b8"
      },
      "execution_count": 11,
      "outputs": [
        {
          "output_type": "stream",
          "name": "stdout",
          "text": [
            " Last Element :  Bob \n",
            " Second Last Element :  Debra \n",
            " Thrird Last Element :  and\n"
          ]
        }
      ]
    },
    {
      "cell_type": "code",
      "source": [
        "#@title 6.Adding an element at the front of the list\n",
        "\n",
        "abc = [ 20 , 30 , 40 , 50]\n",
        "\n",
        "# Adding Element \"10\" in the front\n",
        "abc.insert(0,10)\n",
        "\n",
        "print (abc)\n",
        "\n"
      ],
      "metadata": {
        "id": "dSKr5_20U0YS",
        "colab": {
          "base_uri": "https://localhost:8080/"
        },
        "outputId": "af04399d-85d6-413a-bf11-6d08e4735f24"
      },
      "execution_count": 12,
      "outputs": [
        {
          "output_type": "stream",
          "name": "stdout",
          "text": [
            "[10, 20, 30, 40, 50]\n"
          ]
        }
      ]
    },
    {
      "cell_type": "code",
      "source": [
        "#@title 7.Adding an element anywhere (at a specific index) \n",
        "\n",
        "abc = [ 3 , 6, 12 , 15]\n",
        "\n",
        "#Adding an element at position \"(3)\"\n",
        "abc.insert(2,9)\n",
        "\n",
        "print(abc)"
      ],
      "metadata": {
        "id": "jvMJf2-2U0bM",
        "colab": {
          "base_uri": "https://localhost:8080/"
        },
        "outputId": "22e64d11-8e7a-4a27-c004-0beb7420f380"
      },
      "execution_count": 13,
      "outputs": [
        {
          "output_type": "stream",
          "name": "stdout",
          "text": [
            "[3, 6, 9, 12, 15]\n"
          ]
        }
      ]
    },
    {
      "cell_type": "code",
      "source": [
        "#@title 8.Updating (or Replacing) an element\n",
        "\n",
        "abc = [\"bob\" , 1 , True , \"Tom\" , \"John\" , -10 ]\n",
        "\n",
        "# replacing element (3) in the list\n",
        "\n",
        "abc[2] = False\n",
        "print(abc)\n",
        "\n",
        "# Replacing element (4) in the list\n",
        "\n",
        "abc[3] = \"something\"\n",
        "print (abc)\n",
        "\n",
        "# replacing last element\n",
        "\n",
        "abc[-1] = 100\n",
        "print (abc)\n"
      ],
      "metadata": {
        "id": "DUG9xlraaTlO",
        "colab": {
          "base_uri": "https://localhost:8080/"
        },
        "outputId": "c843ba45-ade5-4ae1-8240-708128af118c"
      },
      "execution_count": 15,
      "outputs": [
        {
          "output_type": "stream",
          "name": "stdout",
          "text": [
            "['bob', 1, False, 'Tom', 'John', -10]\n",
            "['bob', 1, False, 'something', 'John', -10]\n",
            "['bob', 1, False, 'something', 'John', 100]\n"
          ]
        }
      ]
    },
    {
      "cell_type": "code",
      "source": [
        "#@title 9.Looping through the list (just for READING)\n",
        "\n",
        "abc = [\"bob\" , 1 , True , \"Tom\" , \"John\" , -10 ]\n",
        "\n",
        "for z in abc:\n",
        "  print (z)\n",
        "\n",
        "# with Numirical values\n",
        "abc = [ 2 ,4 ,6, 8,10]\n",
        "for x in abc:\n",
        "  print (x ,end=\" \")"
      ],
      "metadata": {
        "id": "F6P3NNhFU0j8",
        "colab": {
          "base_uri": "https://localhost:8080/"
        },
        "outputId": "51ec94b6-766d-4de5-a856-161680bb6a9b"
      },
      "execution_count": 20,
      "outputs": [
        {
          "output_type": "stream",
          "name": "stdout",
          "text": [
            "bob\n",
            "1\n",
            "True\n",
            "Tom\n",
            "John\n",
            "-10\n",
            "2 4 6 8 10 "
          ]
        }
      ]
    },
    {
      "cell_type": "code",
      "source": [
        "#@title 10.Looping through the list (for UPDATING)\n",
        "\n",
        "abc = [ 2 ,4 ,6, 8,10]\n",
        "\n",
        "begin=0\n",
        "\n",
        "for x in abc:\n",
        "# print after multipling all elements with 5  \n",
        "  print (x ,\" * \" ,\"5\" , \" = \" , x * 5 )\n",
        "\n",
        "#updating element in list by multyplying by 5\n",
        "  abc[begin]= x * 5\n",
        "  begin= begin + 1\n",
        "print (\"Print updated element list\")\n",
        "print (abc)\n",
        "\n"
      ],
      "metadata": {
        "id": "QFJmGzYOU0nG",
        "colab": {
          "base_uri": "https://localhost:8080/"
        },
        "outputId": "8d8adffc-f91c-4913-9562-e3c72a5b5d8a"
      },
      "execution_count": 25,
      "outputs": [
        {
          "output_type": "stream",
          "name": "stdout",
          "text": [
            "2  *  5  =  10\n",
            "4  *  5  =  20\n",
            "6  *  5  =  30\n",
            "8  *  5  =  40\n",
            "10  *  5  =  50\n",
            "Print updated element list\n",
            "[10, 20, 30, 40, 50]\n"
          ]
        }
      ]
    },
    {
      "cell_type": "code",
      "source": [
        "#@title 11.Common Operations: Find the length of the list\n",
        "# Find the number of elements in the list\n",
        "\n",
        "abc = [\"bob\" , 1 , True , \"Tom\" , \"John\" , -10 ]\n",
        "\n",
        "x=len(abc)\n",
        "print (\"Number of elements in the list are :\" ,x)\n",
        "\n",
        "\n",
        "sum=0\n",
        "for i in abc:\n",
        "  sum=sum+1\n",
        "print (\"Number of elements in the list are :\" ,sum)\n",
        "\n",
        "\n",
        "\n",
        "\n"
      ],
      "metadata": {
        "id": "_OiuJHIeU0p6",
        "colab": {
          "base_uri": "https://localhost:8080/"
        },
        "outputId": "38fe3db2-7bd2-487f-eca8-0973b815c069"
      },
      "execution_count": 2,
      "outputs": [
        {
          "output_type": "stream",
          "name": "stdout",
          "text": [
            "Number of elements in the list are : 6\n",
            "Number of elements in the list are : 6\n"
          ]
        }
      ]
    },
    {
      "cell_type": "code",
      "source": [
        "#@title 12.Common Operations: Find the maximum in the list\n",
        "\n",
        "xyz = [ 0 , -1 , 1, -10 , -200 , -1000 ]\n",
        "\n",
        "num=xyz[0]\n",
        "for i in xyz:\n",
        "  if ( num <= i ):\n",
        "    num=i    \n",
        "print (num)\n",
        "\n",
        "\n",
        "\n",
        "\n",
        "\n",
        "\n"
      ],
      "metadata": {
        "id": "IhGhO_XxU0tB",
        "colab": {
          "base_uri": "https://localhost:8080/"
        },
        "outputId": "2e038ab9-3295-4262-87f8-7ca554f581d7"
      },
      "execution_count": 13,
      "outputs": [
        {
          "output_type": "stream",
          "name": "stdout",
          "text": [
            "1\n"
          ]
        }
      ]
    },
    {
      "cell_type": "code",
      "source": [
        "#@title 13.Common Operations: Find the minimum in the list\n",
        "\n",
        "xyz = [ 0 , -1 , 1, -10 , -200 , -1000 ]\n",
        "\n",
        "num=xyz[0]\n",
        "for i in xyz:\n",
        "  if ( num >= i ):\n",
        "    num=i    \n",
        "print (num)\n",
        "\n"
      ],
      "metadata": {
        "id": "D4vmqhUHYaVC",
        "colab": {
          "base_uri": "https://localhost:8080/"
        },
        "outputId": "245a9aae-bfa4-42c6-e4be-0b5d713ba4e5"
      },
      "execution_count": 14,
      "outputs": [
        {
          "output_type": "stream",
          "name": "stdout",
          "text": [
            "-1000\n"
          ]
        }
      ]
    },
    {
      "cell_type": "code",
      "source": [
        "#@title 14.Common Operations: Find the sum of elements in the list\n",
        "\n",
        "xyz = [ 0 , -1 , 1, -10 , -200 , -1000 ]\n",
        "\n",
        "num=xyz[0]\n",
        "for i in xyz:\n",
        "  num=num + i   \n",
        "print (num)"
      ],
      "metadata": {
        "id": "ULNy2XkGYd5g",
        "colab": {
          "base_uri": "https://localhost:8080/"
        },
        "outputId": "37f1eb1c-ea01-4b11-e416-1ba8e356e59f"
      },
      "execution_count": 15,
      "outputs": [
        {
          "output_type": "stream",
          "name": "stdout",
          "text": [
            "-1210\n"
          ]
        }
      ]
    },
    {
      "cell_type": "code",
      "source": [
        "#@title 14.Removing an element by value\n",
        "\n",
        "xyz = [ 0 , -1 , 1, -10 , -200 , -1000 ]\n",
        "print (xyz)\n",
        "\n",
        "rem=1\n",
        "\n",
        "for i in xyz:\n",
        "  if ( rem != i ):\n",
        "    print (i,end=\",\")\n",
        "\n",
        "\n",
        "\n"
      ],
      "metadata": {
        "id": "8UfCeQSpYwFB",
        "colab": {
          "base_uri": "https://localhost:8080/"
        },
        "outputId": "cb7e706e-a377-4e5f-ee84-07dd87ef7ca3"
      },
      "execution_count": 21,
      "outputs": [
        {
          "output_type": "stream",
          "name": "stdout",
          "text": [
            "[0, -1, 1, -10, -200, -1000]\n",
            "0,-1,-10,-200,-1000,"
          ]
        }
      ]
    },
    {
      "cell_type": "code",
      "source": [
        "#@title 15.Removing the last element in the list\n",
        "\n",
        "xyz = [ 0 , -1 , 1, -10 , -200 , -1000 ]\n",
        "\n",
        "length=len(xyz)\n",
        "for i in range(length -1):\n",
        "  if (length -2 != i):\n",
        "    print (xyz[i],end=\",\")\n",
        "  else:\n",
        "    print (xyz[i])\n",
        "\n",
        "  \n",
        "\n",
        "\n",
        "\n"
      ],
      "metadata": {
        "id": "8pLgwYe0YwOY",
        "colab": {
          "base_uri": "https://localhost:8080/"
        },
        "outputId": "eeb49ed5-153d-4d82-e6e4-0e454bdfa6b4"
      },
      "execution_count": 28,
      "outputs": [
        {
          "output_type": "stream",
          "name": "stdout",
          "text": [
            "0,-1,1,-10,-200\n"
          ]
        }
      ]
    },
    {
      "cell_type": "code",
      "source": [
        "#@title 16.Removing an element at a given index\n"
      ],
      "metadata": {
        "id": "2jpc-7ppYwb_"
      },
      "execution_count": null,
      "outputs": []
    },
    {
      "cell_type": "code",
      "source": [
        "#@title 17.Extending a list\n",
        "#(Adding several elements to one list)\n"
      ],
      "metadata": {
        "id": "f9CutvMNYwn6"
      },
      "execution_count": null,
      "outputs": []
    },
    {
      "cell_type": "code",
      "source": [
        "#@title 18.Search for an element. What is the index?\n"
      ],
      "metadata": {
        "id": "S7JBtxoufmw0"
      },
      "execution_count": null,
      "outputs": []
    },
    {
      "cell_type": "code",
      "source": [
        "#@title 19.Count the number of times an element is appearing\n",
        "\n"
      ],
      "metadata": {
        "id": "xtYWNnRUfykZ"
      },
      "execution_count": null,
      "outputs": []
    },
    {
      "cell_type": "code",
      "execution_count": null,
      "metadata": {
        "colab": {
          "base_uri": "https://localhost:8080/"
        },
        "id": "HzdJE7DjkZ7-",
        "outputId": "a130b59c-5076-4038-bd11-b8989a6246f8"
      },
      "outputs": [
        {
          "output_type": "stream",
          "name": "stdout",
          "text": [
            "54.3 ns ± 5.4 ns per loop (mean ± std. dev. of 7 runs, 10000000 loops each)\n"
          ]
        }
      ],
      "source": [
        "#@title 20.Checking for Membership (in)"
      ]
    },
    {
      "cell_type": "code",
      "source": [
        "#@title 21.Checking for Membership (not in)"
      ],
      "metadata": {
        "id": "0jlu0amZfUYv"
      },
      "execution_count": null,
      "outputs": []
    },
    {
      "cell_type": "code",
      "source": [
        "#@title 22.Reverse a list\n"
      ],
      "metadata": {
        "id": "4ss-JZlugMdZ"
      },
      "execution_count": null,
      "outputs": []
    },
    {
      "cell_type": "code",
      "source": [
        "#@title 23.Sort a list\n"
      ],
      "metadata": {
        "id": "XNEHDoaFgop0"
      },
      "execution_count": null,
      "outputs": []
    },
    {
      "cell_type": "code",
      "source": [
        "#@title 24.Copy a list (Caution: Don't reassign)\n"
      ],
      "metadata": {
        "id": "OKubdzAkhAzu"
      },
      "execution_count": null,
      "outputs": []
    },
    {
      "cell_type": "code",
      "source": [
        "#@title 25.Clear (Empty) a list\n",
        "#Delete all the elements in the list\n"
      ],
      "metadata": {
        "id": "EtzP3vuKgt8T"
      },
      "execution_count": null,
      "outputs": []
    },
    {
      "cell_type": "code",
      "source": [
        "#@title 26.Delete the entire list"
      ],
      "metadata": {
        "id": "Kio7904Bh1uk"
      },
      "execution_count": null,
      "outputs": []
    },
    {
      "cell_type": "code",
      "source": [
        "#@title 27.Cool Operation: You can add lists"
      ],
      "metadata": {
        "id": "xrsUOIOmiGT7"
      },
      "execution_count": null,
      "outputs": []
    },
    {
      "cell_type": "code",
      "source": [
        "#@title 28.Cool Operation: You can multiply/repeat a list"
      ],
      "metadata": {
        "id": "daHyLToliKFa"
      },
      "execution_count": null,
      "outputs": []
    },
    {
      "cell_type": "code",
      "source": [
        "#@title 29.Cool Operation: You can convert a range to a list"
      ],
      "metadata": {
        "id": "72Cxp55ziPoa"
      },
      "execution_count": null,
      "outputs": []
    },
    {
      "cell_type": "code",
      "source": [
        "#@title 30.Common Operations: Find the length (Using Built-in Function)"
      ],
      "metadata": {
        "id": "ubwosLZvYiPv"
      },
      "execution_count": null,
      "outputs": []
    },
    {
      "cell_type": "code",
      "source": [
        "#@title 31.Common Operations: Find the maximum in the list (Using Built-in Function)"
      ],
      "metadata": {
        "id": "bsYWoh8viya7"
      },
      "execution_count": null,
      "outputs": []
    },
    {
      "cell_type": "code",
      "source": [
        "#@title 32.Common Operations: Find the minimum in the list (Using Built-in Function)"
      ],
      "metadata": {
        "id": "_dXOQIhsi88b"
      },
      "execution_count": null,
      "outputs": []
    },
    {
      "cell_type": "code",
      "source": [
        "#@title 33.Common Operations: Find the sum of elements in the list (Using Built-in Function)"
      ],
      "metadata": {
        "id": "EDcj1HkdjIXD"
      },
      "execution_count": null,
      "outputs": []
    },
    {
      "cell_type": "code",
      "source": [
        "#@title 34.Common Operations: Find the average of elements in the list (Using Built-in Function)"
      ],
      "metadata": {
        "id": "rQwWmGsnjMG0"
      },
      "execution_count": null,
      "outputs": []
    },
    {
      "cell_type": "code",
      "source": [
        "#@title 35.Common Operations: Find whether the list has any duplicate elements"
      ],
      "metadata": {
        "id": "YuaeC0FVjU81"
      },
      "execution_count": null,
      "outputs": []
    },
    {
      "cell_type": "code",
      "source": [
        "#@title 36.Common Operations: Multiply / Divide / Do something to every element in the list"
      ],
      "metadata": {
        "id": "6ENoMN_Pjr1t"
      },
      "execution_count": null,
      "outputs": []
    },
    {
      "cell_type": "code",
      "source": [
        "#@title 37.List Unpacking (N to <N mapping)"
      ],
      "metadata": {
        "id": "4UgT1N2MkFY6"
      },
      "execution_count": null,
      "outputs": []
    },
    {
      "cell_type": "code",
      "source": [
        "#@title 38.List Unpacking (N to <N mapping)"
      ],
      "metadata": {
        "id": "oHnK7xtkkKoM"
      },
      "execution_count": null,
      "outputs": []
    },
    {
      "cell_type": "code",
      "source": [
        "#@title 39.Printing a List (*)"
      ],
      "metadata": {
        "id": "5MXjd3xIkieL"
      },
      "execution_count": null,
      "outputs": []
    },
    {
      "cell_type": "code",
      "source": [
        "#@title 40.List Slicing"
      ],
      "metadata": {
        "id": "05fSVpKRkoc8"
      },
      "execution_count": null,
      "outputs": []
    },
    {
      "cell_type": "code",
      "source": [
        "#@title 41.List Comprehension"
      ],
      "metadata": {
        "id": "C9igc0NqkuTz"
      },
      "execution_count": null,
      "outputs": []
    },
    {
      "cell_type": "code",
      "source": [
        "#@title 42.Two Dimenstional Lists  (List of Lists)"
      ],
      "metadata": {
        "id": "Z4lXBQV0knD_"
      },
      "execution_count": null,
      "outputs": []
    },
    {
      "cell_type": "code",
      "source": [
        "#@title 43.Zipping two or three lists"
      ],
      "metadata": {
        "id": "OtnBbCUasGXV"
      },
      "execution_count": null,
      "outputs": []
    },
    {
      "cell_type": "code",
      "source": [
        "#@title 44.Applying a map funciton on the lists"
      ],
      "metadata": {
        "id": "dPqwLI6RsLxM"
      },
      "execution_count": null,
      "outputs": []
    }
  ]
}