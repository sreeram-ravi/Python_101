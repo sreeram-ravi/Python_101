{
  "nbformat": 4,
  "nbformat_minor": 0,
  "metadata": {
    "colab": {
      "provenance": [],
      "toc_visible": true,
      "include_colab_link": true
    },
    "kernelspec": {
      "name": "python3",
      "display_name": "Python 3"
    },
    "language_info": {
      "name": "python"
    }
  },
  "cells": [
    {
      "cell_type": "markdown",
      "metadata": {
        "id": "view-in-github",
        "colab_type": "text"
      },
      "source": [
        "<a href=\"https://colab.research.google.com/github/sreeram-ravi/Python_101/blob/main/Updated_A11_Coding_Bat_Lists.ipynb\" target=\"_parent\"><img src=\"https://colab.research.google.com/assets/colab-badge.svg\" alt=\"Open In Colab\"/></a>"
      ]
    },
    {
      "cell_type": "markdown",
      "source": [
        "# Python 101: Python Programming with Dr. Jasthi\n",
        "Assignment 11 (Coding Bat: List Problems)\n",
        "\n",
        "Instructions:\n",
        "\n",
        "1. Click on the link given in each problem.\n",
        "2. Solve the problem at codingbat.com\n",
        "3. Ensure that all the test cases are passing there.\n",
        "4. Copy the final code into the google colab notebook\n",
        "5. Each problem is worth 1 point and there are 10 problems.\n",
        "6. You can also attempt (sum13) problem for an extra credit of 5 points\n"
      ],
      "metadata": {
        "id": "cQy_GF2mcHR8"
      }
    },
    {
      "cell_type": "code",
      "source": [
        "#@title 0. Middle Elements (Example) ( https://codingbat.com/prob/p171011)\n",
        "# Instructor will solve and show this problem to show the process\n",
        "\n",
        "def middle_way(a, b):\n",
        "  m_a = a[1]\n",
        "  m_b = b[1]\n",
        "  new_list = [m_a, m_b]\n",
        "  return new_list\n",
        "\n",
        "  OR\n",
        "\n",
        "def middle_way(a, b):\n",
        "  return [a[1],b[1]]\n",
        "  \n",
        "middle_way([1, 2, 3], [4, 5, 6]) \n",
        "middle_way([7, 7, 7], [3, 8, 0])\n",
        "middle_way([5, 2, 9], [1, 4, 5]) \n",
        "\n",
        "# Testing\n",
        "print(middle_way([1, 2, 3], [4, 5, 6])) # → [2, 5]\n",
        "print(middle_way([7, 7, 7], [3, 8, 0])) # → [7, 8]\n",
        "print(middle_way([5, 2, 9], [1, 4, 5])) # → [2, 4]\n"
      ],
      "metadata": {
        "id": "EL1SvMAGh5UN",
        "colab": {
          "base_uri": "https://localhost:8080/"
        },
        "outputId": "26dc4a5f-c8e7-493c-d70f-ddafd04296c2"
      },
      "execution_count": null,
      "outputs": [
        {
          "output_type": "stream",
          "name": "stdout",
          "text": [
            "[2, 5]\n",
            "[7, 8]\n",
            "[2, 4]\n"
          ]
        }
      ]
    },
    {
      "cell_type": "code",
      "source": [
        "#@title 1. Common End  ( https://codingbat.com/prob/p147755 )\n",
        "# Solve the problem and paste the code here\n",
        "\n",
        "def common_end(a, b):\n",
        " if a[0] == b[0]  or a[-1] == b[-1]:\n",
        "     return True\n",
        " else:\n",
        "     return False\n",
        "\n",
        "    \n",
        "\n",
        "  \n",
        "common_end([1, 2, 3], [7, 3])\n",
        "common_end([1, 2, 3], [7, 3, 2])\n",
        "common_end([1, 2, 3], [1, 3])\n",
        "\n",
        "\n",
        "# Testing\n",
        "\n",
        "# True\n",
        "print(common_end([1, 2, 3], [7, 3])) \n",
        "\n",
        "# False\n",
        "print(common_end([1, 2, 3], [7, 3, 2])) \n",
        "\n",
        "# True\n",
        "print(common_end([1, 2, 3], [1, 3])) "
      ],
      "metadata": {
        "id": "41L2HdFXd8nF"
      },
      "execution_count": null,
      "outputs": []
    },
    {
      "cell_type": "code",
      "source": [
        "#@title 2. Sum 3  ( https://codingbat.com/prob/p191645 )\n",
        "# Solve the problem and paste the code here\n",
        "\n",
        "def sum3(nums):\n",
        "  return sum(nums)\n",
        "  \n",
        "sum3([1, 2, 3])\n",
        "sum3([5, 11, 2])\n",
        "sum3([7, 0, 0])\n",
        "\n",
        "\n",
        "# Testing\n",
        "\n",
        "# 6\n",
        "print(sum3([1, 2, 3])) \n",
        "\n",
        "# 18\n",
        "print(sum3([5, 11, 2])) \n",
        "\n",
        "# 7\n",
        "print(sum3([7, 0, 0])) "
      ],
      "metadata": {
        "id": "TkagmaBXcsQx"
      },
      "execution_count": null,
      "outputs": []
    },
    {
      "cell_type": "code",
      "source": [
        "#@title 3. rotate_left3  ( https://codingbat.com/prob/p148661 )\n",
        "# Solve the problem and paste the code here\n",
        "\n",
        "def rotate_left3(nums):\n",
        "  x=nums[0]\n",
        "  nums.pop(0)\n",
        "  nums.append(x)\n",
        "  return nums\n",
        "\n",
        "rotate_left3([1, 2, 3])\n",
        "rotate_left3([5, 11, 9])\n",
        "rotate_left3([7, 0, 0])\n",
        "\n",
        "# Testing\n",
        "\n",
        "# [2, 3, 1]\n",
        "print(rotate_left3([1, 2, 3])) \n",
        "\n",
        "# [11, 9, 5]\n",
        "print(rotate_left3([5, 11, 9]))\n",
        "\n",
        "# [0, 0, 7]\n",
        "print(rotate_left3([7, 0, 0])) "
      ],
      "metadata": {
        "id": "ZeqsHP7BeNJv"
      },
      "execution_count": null,
      "outputs": []
    },
    {
      "cell_type": "code",
      "source": [
        "#@title 4. reverse 3  ( https://codingbat.com/prob/p192962 )\n",
        "# Solve the problem and paste the code here\n",
        "\n",
        "def reverse3(nums):\n",
        "  nums.reverse()\n",
        "  return nums\n",
        "  \n",
        "reverse3([1, 2, 3]) \n",
        "reverse3([5, 11, 9])\n",
        "reverse3([7, 0, 0])\n",
        "\n",
        "# Testing\n",
        "\n",
        "# [3, 2, 1]\n",
        "print(reverse3([1, 2, 3]))\n",
        "\n",
        "# [9, 11, 5]\n",
        "print(reverse3([5, 11, 9]))\n",
        "\n",
        "# [0, 0, 7]\n",
        "print(reverse3([7, 0, 0]))"
      ],
      "metadata": {
        "id": "1hBNOuw0ebIv"
      },
      "execution_count": null,
      "outputs": []
    },
    {
      "cell_type": "code",
      "source": [
        "#@title 5. max_end3  ( https://codingbat.com/prob/p135290 )\n",
        "# Solve the problem and paste the code here\n",
        "\n",
        "def max_end3(nums):\n",
        "  if ( nums[0] >= nums[-1] ):\n",
        "    x=nums[0]\n",
        "  else:\n",
        "    x=nums[-1]\n",
        "    \n",
        "  count=0\n",
        "  for i in nums:\n",
        "    nums[count]=x\n",
        "    count=count +1\n",
        "  return nums\n",
        "  \n",
        "  \n",
        "max_end3([1, 2, 3])\n",
        "max_end3([11, 5, 9])\n",
        "max_end3([2, 11, 3])\n",
        "\n",
        "# Testing\n",
        "\n",
        "# [3, 3, 3]\n",
        "print(max_end3([1, 2, 3]))\n",
        "\n",
        "# [11, 11, 11]\n",
        "print(max_end3([11, 5, 9]))\n",
        "\n",
        "# [3, 3, 3]\n",
        "print(max_end3([2, 11, 3]))"
      ],
      "metadata": {
        "id": "OUIoWGQQewbA"
      },
      "execution_count": null,
      "outputs": []
    },
    {
      "cell_type": "code",
      "source": [
        "#@title 6. sum2  ( https://codingbat.com/prob/p192589 )\n",
        "# Solve the problem and paste the code here\n",
        "\n",
        "def sum2(nums):\n",
        "  x = len(nums)\n",
        "  total = 0\n",
        "  if ( x == 0 ):\n",
        "    total = 0\n",
        "  elif ( x > 2 ):\n",
        "    total = nums[0] + nums[1]\n",
        "  elif ( x <= 2 ):\n",
        "    total = sum(nums)\n",
        "  return total\n",
        "  \n",
        "  \n",
        "\n",
        "sum2([1, 2, 3])\n",
        "sum2([1, 1])\n",
        "sum2([1, 1, 1, 1])\n",
        "\n",
        "# Testing\n",
        "\n",
        "# 3\n",
        "print(sum2([1, 2, 3]))\n",
        "\n",
        "# 2\n",
        "print(sum2([1, 1]))\n",
        "\n",
        "# 2\n",
        "print(sum2([1, 1, 1, 1]))"
      ],
      "metadata": {
        "id": "X2mtj_voewmC"
      },
      "execution_count": null,
      "outputs": []
    },
    {
      "cell_type": "code",
      "source": [
        "#@title 7. make ends  ( https://codingbat.com/prob/p124806 )\n",
        "# Solve the problem and paste the code here\n",
        "\n",
        "def make_ends(nums):\n",
        "  x = len(nums)\n",
        "  if ( x >= 1 ):\n",
        "    nums=[nums[0],nums[-1]]\n",
        "  return nums\n",
        "  \n",
        "\n",
        "\n",
        "make_ends([1, 2, 3])\n",
        "make_ends([1, 2, 3, 4])\n",
        "make_ends([7, 4, 6, 2])\n",
        "\n",
        "# Testing\n",
        "\n",
        "# [1, 3]\n",
        "print(make_ends([1, 2, 3]))\n",
        "\n",
        "# [1, 4]\n",
        "print(make_ends([1, 2, 3, 4]))\n",
        "\n",
        "# [7, 2]\n",
        "print(make_ends([7, 4, 6, 2]))"
      ],
      "metadata": {
        "id": "GfgyB0Opewzm"
      },
      "execution_count": null,
      "outputs": []
    },
    {
      "cell_type": "code",
      "source": [
        "#@title 8. Big Difference  ( https://codingbat.com/prob/p184853 )\n",
        "# Solve the problem and paste the code here\n",
        "\n",
        "def big_diff(nums):\n",
        "  x = len(nums)\n",
        "  total = 0\n",
        "  if ( x > 1 ):\n",
        "    total = max(nums) - min(nums)\n",
        "  return total\n",
        "    \n",
        "    \n",
        "  \n",
        "  \n",
        "big_diff([10, 3, 5, 6])\n",
        "big_diff([7, 2, 10, 9])\n",
        "big_diff([2, 10, 7, 2])\n",
        "\n",
        "\n",
        "# Testing\n",
        "\n",
        "# 7\n",
        "print(big_diff([10, 3, 5, 6]))\n",
        "\n",
        "# 8\n",
        "print(big_diff([7, 2, 10, 9]))\n",
        "\n",
        "# 8\n",
        "print(big_diff([2, 10, 7, 2]))"
      ],
      "metadata": {
        "id": "91SlUdjFcwUx"
      },
      "execution_count": null,
      "outputs": []
    },
    {
      "cell_type": "code",
      "source": [
        "#@title 9. Centered Average  ( https://codingbat.com/prob/p126968 )\n",
        "# Solve the problem and paste the code here\n",
        "\n",
        "def centered_average(nums):\n",
        "  x = min(nums)\n",
        "  indexx = nums.index(x)\n",
        "  nums.pop(indexx)\n",
        "  y = max(nums)\n",
        "  indexx = nums.index(y)\n",
        "  nums.pop(indexx)\n",
        "  size = len(nums)\n",
        "  average = sum(nums) / size\n",
        "  return average\n",
        "  \n",
        "  \n",
        "centered_average([1, 2, 3, 4, 100])\n",
        "centered_average([1, 1, 5, 5, 10, 8, 7])\n",
        "centered_average([-10, -4, -2, -4, -2, 0])\n",
        "\n",
        "# Testing\n",
        "\n",
        "# 3\n",
        "print(centered_average([1, 2, 3, 4, 100]))\n",
        "\n",
        "# 5\n",
        "print(centered_average([1, 1, 5, 5, 10, 8, 7]))\n",
        "\n",
        "# -3\n",
        "print(centered_average([-10, -4, -2, -4, -2, 0]))"
      ],
      "metadata": {
        "id": "uhSosg_xc9s8"
      },
      "execution_count": null,
      "outputs": []
    },
    {
      "cell_type": "code",
      "source": [
        "#@title 10. Has 22  ( https://codingbat.com/prob/p119308 )\n",
        "# Solve the problem and paste the code here\n",
        "\n",
        "def has22(nums):\n",
        "    size = len(nums)\n",
        "    count = 0\n",
        "    if ( nums.count(2) >= 2 ):\n",
        "        while ( size -1  >= count ):\n",
        "            x = nums.index(2)\n",
        "            if ( x + 1 < size ):\n",
        "                if ( nums[x] == nums[x+1]):\n",
        "                    return True\n",
        "            elif ( x + 1 == size ):\n",
        "                return False\n",
        "            nums[x] = 0\n",
        "            count = x + 1\n",
        "            if ( count == size -1 ):\n",
        "                return False\n",
        "                break\n",
        "    else:\n",
        "        return False\n",
        "\n",
        "has22([1, 2, 2])\n",
        "has22([1, 2, 1, 2])\n",
        "has22([2, 1, 2])\n",
        "\n",
        "# Testing\n",
        "\n",
        "# True\n",
        "print(has22([1, 2, 2]))\n",
        "\n",
        "# False\n",
        "print(has22([1, 2, 1, 2]))\n",
        "\n",
        "# False\n",
        "print(has22([2, 1, 2]))"
      ],
      "metadata": {
        "id": "pH59bElYdcYv"
      },
      "execution_count": null,
      "outputs": []
    },
    {
      "cell_type": "markdown",
      "source": [
        "# Extra Credit (5 Points)\n",
        "### Solve this problem 11 only after you solved all the above 10 basic problems"
      ],
      "metadata": {
        "id": "ATKAUuJrfpiB"
      }
    },
    {
      "cell_type": "code",
      "source": [
        "#@title 11. Sum 13 problem  ( https://codingbat.com/prob/p167025 )\n",
        "# Solve the problem and paste the code here\n",
        "\n",
        "def sum13(nums):\n",
        "  if ( sum(nums) == 0 ):\n",
        "      return 0\n",
        "  size = len(nums)\n",
        "  x = nums.count(13)\n",
        "  if ( x != 0 ):\n",
        "    for i in nums:\n",
        "        if ( 13 in nums):\n",
        "            indexx = nums.index(13)\n",
        "            nums[indexx] = 0\n",
        "            if ( indexx + 1 != size ):\n",
        "                nums[indexx + 1 ] = 0\n",
        "    total = sum(nums)\n",
        "    return total\n",
        "  else:\n",
        "    total = sum(nums)\n",
        "    return total\n",
        "  \n",
        "\n",
        "sum13([1, 2, 2, 1])\n",
        "sum13([1, 1])\n",
        "sum13([1, 2, 2, 1, 13])\n",
        "# Testing\n",
        "\n",
        "# 6\n",
        "print(sum13([1, 2, 2, 1]))\n",
        "\n",
        "# 2\n",
        "print(sum13([1, 1]))\n",
        "\n",
        "# 6\n",
        "print(sum13([1, 2, 2, 1, 13]))"
      ],
      "metadata": {
        "id": "7AiLZTMSdJQ-"
      },
      "execution_count": null,
      "outputs": []
    }
  ]
}